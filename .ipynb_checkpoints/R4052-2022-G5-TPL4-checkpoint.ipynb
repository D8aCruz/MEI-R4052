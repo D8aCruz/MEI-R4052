{
 "cells": [
  {
   "cell_type": "markdown",
   "id": "9474f35a",
   "metadata": {},
   "source": [
    "<img src=\"logo-utn-frba-electronica-green.png\" style=\"float: right;\" width=\"200\" height=\"40\" alt=\"InternetCtrl\">\n",
    "<p style=\" font-family: Courier New,Courier,Lucida Sans Typewriter,Lucida Typewriter,monospace; text-align: left;\"><font color='black'>MEDIDAS ELECTRÓNICAS I<br>Curso R4052</font></p>"
   ]
  },
  {
   "cell_type": "markdown",
   "id": "75edaaa8",
   "metadata": {},
   "source": [
    "<p style=\"border: ridge black 2px; text-align: center;font-weight: italic; font-size:25px; background-color:#0EEA0B\">\n",
    "    Trabajo Práctico N° 4\n",
    "</p>"
   ]
  },
  {
   "cell_type": "markdown",
   "id": "1240d7df",
   "metadata": {},
   "source": [
    "<p style=\"text-align: center; font-weight: italic; font-size:15px;\">Osciloscopia Digital (DSO)</p>\n",
    "<hr style=\"border: ridge #0EEA0B 1px;\">"
   ]
  },
  {
   "cell_type": "markdown",
   "id": "91a14bc7",
   "metadata": {},
   "source": [
    "<table style=\"border-collapse:collapse;border-spacing:0;\n",
    "              border-color:black;border-style:solid;border-width:1px;\n",
    "              font-family:Arial,sans-serif;font-size:14px; \n",
    "              overflow:hidden;padding:10px 5px;word-break:normal;\n",
    "              border-color:black;border-style:solid;border-width:1px;\n",
    "              font-family:Arial, sans-serif;font-size:14px;\n",
    "              font-weight:normal;overflow:hidden;padding:10px 5px;word-break:normal;\n",
    "              border-color:inherit;text-align:left;vertical-align:top\">\n",
    "<thead>\n",
    "  <tr>\n",
    "    <th style=\"border-color:black;border-style:solid;border-width:1px;\n",
    "              ont-family:Arial, sans-serif;font-size:14px;\n",
    "              font-weight:normal;overflow:hidden;padding:10px 5px;word-break:normal;\"> </th>\n",
    "    <th style=\"border-color:black;border-style:solid;border-width:1px;\n",
    "              font-family:Arial, sans-serif;font-size:14px;\n",
    "              font-weight:normal;overflow:hidden;padding:10px 5px;word-break:normal;\n",
    "              border-color:inherit;text-align:left;vertical-align:top\"> <strong>   INTEGRANTES    </strong></th>\n",
    "  </tr>\n",
    "</thead>\n",
    "<tbody>\n",
    "  <tr>\n",
    "    <td style=\"border-color:black;border-style:solid;border-width:1px;\n",
    "               font-family:Arial, sans-serif;font-size:14px;\n",
    "               overflow:hidden;padding:10px 5px;word-break:normal;\n",
    "               border-color:inherit;text-align:left;vertical-align:top\">1</td>\n",
    "    <td style=\"border-color:black;border-style:solid;border-width:1px;\n",
    "               font-family:Arial, sans-serif;font-size:14px;\n",
    "               overflow:hidden;padding:10px 5px;word-break:normal;\n",
    "               border-color:inherit;text-align:left;vertical-align:top\">    David ochoa Cruz    </td>\n",
    "  </tr>\n",
    "  <tr>\n",
    "    <td style=\"border-color:black;border-style:solid;border-width:1px;\n",
    "               font-family:Arial, sans-serif;font-size:14px;\n",
    "               overflow:hidden;padding:10px 5px;word-break:normal;\n",
    "               border-color:inherit;text-align:left;vertical-align:top\">1</td>\n",
    "    <td style=\"border-color:black;border-style:solid;border-width:1px;\n",
    "               font-family:Arial, sans-serif;font-size:14px;\n",
    "               overflow:hidden;padding:10px 5px;word-break:normal;\n",
    "               border-color:inherit;text-align:left;vertical-align:top\">   Paulo Andres Lopez Velandia   </td>\n",
    "  </tr>\n",
    "  <tr>\n",
    "    <td style=\"border-color:black;border-style:solid;border-width:1px;\n",
    "               font-family:Arial, sans-serif;font-size:14px;\n",
    "               overflow:hidden;padding:10px 5px;word-break:normal;\n",
    "               border-color:inherit;text-align:left;vertical-align:top\">2</td>\n",
    "    <td style=\"border-color:black;border-style:solid;border-width:1px;\n",
    "               font-family:Arial, sans-serif;font-size:14px;\n",
    "               overflow:hidden;padding:10px 5px;word-break:normal;\n",
    "               border-color:inherit;text-align:left;vertical-align:top\">    Christian Georg KÖnig    </td>\n",
    "  </tr>  \n",
    "  <tr>\n",
    "    <td style=\"border-color:black;border-style:solid;border-width:1px;\n",
    "               font-family:Arial, sans-serif;font-size:14px;\n",
    "               overflow:hidden;padding:10px 5px;word-break:normal;\n",
    "               border-color:inherit;text-align:left;vertical-align:top\">3</td>\n",
    "    <td style=\"border-color:black;border-style:solid;border-width:1px;\n",
    "               font-family:Arial, sans-serif;font-size:14px;\n",
    "               overflow:hidden;padding:10px 5px;word-break:normal;\n",
    "               border-color:inherit;text-align:left;vertical-align:top\">    José Martín Sosa    </td>\n",
    "  </tr>\n",
    "</tbody>\n",
    "</table>"
   ]
  },
  {
   "cell_type": "markdown",
   "id": "a288df60",
   "metadata": {},
   "source": [
    "<hr style=\"border: ridge #0EEA0B 1px;\">\n",
    "<br>\n",
    "<p style=\"border: ridge #0EEA0B 2px; text-align: left;font-weight: italic; font-size:15px;\">\n",
    "    Objetivos\n",
    "</p>"
   ]
  },
  {
   "cell_type": "markdown",
   "id": "4167c237",
   "metadata": {},
   "source": [
    "<ol style=\"\">\n",
    "    <li style=\"position: relative;\n",
    "               margin-bottom: 1.5em;\n",
    "               padding: 1.5em;\n",
    "               background-color: #E3FFE3;\">\n",
    "        <strong>Medición de Impedancia</strong>\n",
    "        <p style=\"text-align: justify;\">\n",
    "            Se busca medir la impedancia de un dipolo paralelo conformado por un\n",
    "            capacitor y una resistencia cuya fase se encuentra entre 25º/40º a una \n",
    "            frecuencia de 1kHz. Para ello se propone medir la tensión y corriente del\n",
    "            dipolo utilizando un DSO y un resistencia en serie para medir la corriente.\n",
    "            Nota: Tenga cuidado de definir las resistencias para que las mediciones de\n",
    "            tensión esté en la misma escala y de no cortocircuitar las masas del DSO.</p>\n",
    "    </li>\n",
    "    <li style=\"position: relative;\n",
    "               margin-bottom: 1.5em;\n",
    "               padding: 1.5em;\n",
    "               background-color: #E3FFE3;\">\n",
    "        <strong>Mediciones de eventos únicos</strong>\n",
    "        <p style=\"text-align: justify;\">\n",
    "            Utilizando un circuito conformado por un relé,\n",
    "            un switch y un diodo removible se busca medir:</p>\n",
    "        <ul>\n",
    "          <li>Tiempo de apertura y tiempo de cierre \n",
    "              (con y sin diodo de protección)</li>\n",
    "          <li>Sobre-tensión en la llave en el momento de\n",
    "              apertura (con y sin diodo de protección)</li>\n",
    "        </ul>\n",
    "    </li>\n",
    "    <li style=\"position: relative;\n",
    "               margin-bottom: 1.5em;\n",
    "               padding: 1.5em;\n",
    "               background-color: #E3FFE3;\">\n",
    "        <strong>Tiempo de establecimiento</strong>\n",
    "        <p style=\"text-align: justify;\">\n",
    "            Medir el tiempo de establecimiento de un generador de señal rectangular.</p>\n",
    "    </li>\n",
    "    <li style=\"position: relative;\n",
    "               margin-bottom: 1.5em;\n",
    "               padding: 1.5em;\n",
    "               background-color: #E3FFE3;\">\n",
    "        <strong>Compensación de la punta</strong>\n",
    "        <p style=\"text-align: justify;\">\n",
    "            A partir de una señal senoidal de 100 kHz y Vpp = 4 V, medir el máximo error\n",
    "            de tensión que se puede producir utilizando una punta sin compensar frente a otra compensada. </p>\n",
    "    </li>\n",
    "</ol>"
   ]
  }
 ],
 "metadata": {
  "kernelspec": {
   "display_name": "Python 3 (ipykernel)",
   "language": "python",
   "name": "python3"
  },
  "language_info": {
   "codemirror_mode": {
    "name": "ipython",
    "version": 3
   },
   "file_extension": ".py",
   "mimetype": "text/x-python",
   "name": "python",
   "nbconvert_exporter": "python",
   "pygments_lexer": "ipython3",
   "version": "3.8.10"
  }
 },
 "nbformat": 4,
 "nbformat_minor": 5
}
