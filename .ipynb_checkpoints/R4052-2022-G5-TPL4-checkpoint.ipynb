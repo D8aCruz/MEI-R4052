{
 "cells": [
  {
   "cell_type": "markdown",
   "id": "d1f81c52",
   "metadata": {},
   "source": [
    "<img class=\"less\" style=\"float: right;\" style=\"filter: invert(100%);\" width=\"150\" height=\"40\" alt=\"InternetCtrl\">"
   ]
  },
  {
   "cell_type": "code",
   "execution_count": null,
   "id": "c5b689ba",
   "metadata": {},
   "outputs": [],
   "source": []
  }
 ],
 "metadata": {
  "kernelspec": {
   "display_name": "Python 3 (ipykernel)",
   "language": "python",
   "name": "python3"
  },
  "language_info": {
   "codemirror_mode": {
    "name": "ipython",
    "version": 3
   },
   "file_extension": ".py",
   "mimetype": "text/x-python",
   "name": "python",
   "nbconvert_exporter": "python",
   "pygments_lexer": "ipython3",
   "version": "3.8.10"
  }
 },
 "nbformat": 4,
 "nbformat_minor": 5
}
